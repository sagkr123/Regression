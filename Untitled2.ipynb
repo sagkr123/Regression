{
 "cells": [
  {
   "cell_type": "code",
   "execution_count": 3,
   "id": "22ca37a3",
   "metadata": {},
   "outputs": [],
   "source": [
    "#Linear Regression\n",
    "import pandas as pd\n",
    "import numpy as np\n",
    "import matplotlib.pyplot as plt\n",
    "from sklearn import metrics\n",
    "%matplotlib inline\n",
    "import matplotlib.pyplot as plt"
   ]
  },
  {
   "cell_type": "code",
   "execution_count": 4,
   "id": "118e308e",
   "metadata": {},
   "outputs": [
    {
     "data": {
      "text/html": [
       "<div>\n",
       "<style scoped>\n",
       "    .dataframe tbody tr th:only-of-type {\n",
       "        vertical-align: middle;\n",
       "    }\n",
       "\n",
       "    .dataframe tbody tr th {\n",
       "        vertical-align: top;\n",
       "    }\n",
       "\n",
       "    .dataframe thead th {\n",
       "        text-align: right;\n",
       "    }\n",
       "</style>\n",
       "<table border=\"1\" class=\"dataframe\">\n",
       "  <thead>\n",
       "    <tr style=\"text-align: right;\">\n",
       "      <th></th>\n",
       "      <th>Date</th>\n",
       "      <th>Open</th>\n",
       "      <th>High</th>\n",
       "      <th>Low</th>\n",
       "      <th>Close</th>\n",
       "      <th>Adj Close</th>\n",
       "      <th>Volume</th>\n",
       "    </tr>\n",
       "  </thead>\n",
       "  <tbody>\n",
       "    <tr>\n",
       "      <th>0</th>\n",
       "      <td>2019-07-18</td>\n",
       "      <td>48.299999</td>\n",
       "      <td>49.750000</td>\n",
       "      <td>46.950001</td>\n",
       "      <td>47.500000</td>\n",
       "      <td>47.500000</td>\n",
       "      <td>938262</td>\n",
       "    </tr>\n",
       "    <tr>\n",
       "      <th>1</th>\n",
       "      <td>2019-07-19</td>\n",
       "      <td>48.000000</td>\n",
       "      <td>48.150002</td>\n",
       "      <td>45.200001</td>\n",
       "      <td>45.799999</td>\n",
       "      <td>45.799999</td>\n",
       "      <td>1180434</td>\n",
       "    </tr>\n",
       "    <tr>\n",
       "      <th>2</th>\n",
       "      <td>2019-07-22</td>\n",
       "      <td>45.500000</td>\n",
       "      <td>47.450001</td>\n",
       "      <td>44.700001</td>\n",
       "      <td>46.799999</td>\n",
       "      <td>46.799999</td>\n",
       "      <td>1022220</td>\n",
       "    </tr>\n",
       "    <tr>\n",
       "      <th>3</th>\n",
       "      <td>2019-07-23</td>\n",
       "      <td>46.900002</td>\n",
       "      <td>49.349998</td>\n",
       "      <td>46.700001</td>\n",
       "      <td>48.799999</td>\n",
       "      <td>48.799999</td>\n",
       "      <td>1756709</td>\n",
       "    </tr>\n",
       "    <tr>\n",
       "      <th>4</th>\n",
       "      <td>2019-07-24</td>\n",
       "      <td>49.400002</td>\n",
       "      <td>49.500000</td>\n",
       "      <td>48.250000</td>\n",
       "      <td>48.450001</td>\n",
       "      <td>48.450001</td>\n",
       "      <td>671080</td>\n",
       "    </tr>\n",
       "  </tbody>\n",
       "</table>\n",
       "</div>"
      ],
      "text/plain": [
       "         Date       Open       High        Low      Close  Adj Close   Volume\n",
       "0  2019-07-18  48.299999  49.750000  46.950001  47.500000  47.500000   938262\n",
       "1  2019-07-19  48.000000  48.150002  45.200001  45.799999  45.799999  1180434\n",
       "2  2019-07-22  45.500000  47.450001  44.700001  46.799999  46.799999  1022220\n",
       "3  2019-07-23  46.900002  49.349998  46.700001  48.799999  48.799999  1756709\n",
       "4  2019-07-24  49.400002  49.500000  48.250000  48.450001  48.450001   671080"
      ]
     },
     "execution_count": 4,
     "metadata": {},
     "output_type": "execute_result"
    }
   ],
   "source": [
    "dataset = pd.read_csv('ADANIGREEN.NS.csv')\n",
    "dataset.head()"
   ]
  },
  {
   "cell_type": "code",
   "execution_count": 5,
   "id": "95dd0028",
   "metadata": {},
   "outputs": [],
   "source": [
    "dataset['Date'] = pd.to_datetime(dataset.Date)"
   ]
  },
  {
   "cell_type": "code",
   "execution_count": 6,
   "id": "f039a476",
   "metadata": {},
   "outputs": [
    {
     "data": {
      "text/plain": [
       "(914, 7)"
      ]
     },
     "execution_count": 6,
     "metadata": {},
     "output_type": "execute_result"
    }
   ],
   "source": [
    "dataset.shape"
   ]
  },
  {
   "cell_type": "code",
   "execution_count": 7,
   "id": "01fe1140",
   "metadata": {},
   "outputs": [],
   "source": [
    "dataset.drop('Adj Close',axis = 1,inplace = True)"
   ]
  },
  {
   "cell_type": "code",
   "execution_count": 8,
   "id": "650a88aa",
   "metadata": {},
   "outputs": [
    {
     "data": {
      "text/html": [
       "<div>\n",
       "<style scoped>\n",
       "    .dataframe tbody tr th:only-of-type {\n",
       "        vertical-align: middle;\n",
       "    }\n",
       "\n",
       "    .dataframe tbody tr th {\n",
       "        vertical-align: top;\n",
       "    }\n",
       "\n",
       "    .dataframe thead th {\n",
       "        text-align: right;\n",
       "    }\n",
       "</style>\n",
       "<table border=\"1\" class=\"dataframe\">\n",
       "  <thead>\n",
       "    <tr style=\"text-align: right;\">\n",
       "      <th></th>\n",
       "      <th>Date</th>\n",
       "      <th>Open</th>\n",
       "      <th>High</th>\n",
       "      <th>Low</th>\n",
       "      <th>Close</th>\n",
       "      <th>Volume</th>\n",
       "    </tr>\n",
       "  </thead>\n",
       "  <tbody>\n",
       "    <tr>\n",
       "      <th>0</th>\n",
       "      <td>2019-07-18</td>\n",
       "      <td>48.299999</td>\n",
       "      <td>49.750000</td>\n",
       "      <td>46.950001</td>\n",
       "      <td>47.500000</td>\n",
       "      <td>938262</td>\n",
       "    </tr>\n",
       "    <tr>\n",
       "      <th>1</th>\n",
       "      <td>2019-07-19</td>\n",
       "      <td>48.000000</td>\n",
       "      <td>48.150002</td>\n",
       "      <td>45.200001</td>\n",
       "      <td>45.799999</td>\n",
       "      <td>1180434</td>\n",
       "    </tr>\n",
       "    <tr>\n",
       "      <th>2</th>\n",
       "      <td>2019-07-22</td>\n",
       "      <td>45.500000</td>\n",
       "      <td>47.450001</td>\n",
       "      <td>44.700001</td>\n",
       "      <td>46.799999</td>\n",
       "      <td>1022220</td>\n",
       "    </tr>\n",
       "    <tr>\n",
       "      <th>3</th>\n",
       "      <td>2019-07-23</td>\n",
       "      <td>46.900002</td>\n",
       "      <td>49.349998</td>\n",
       "      <td>46.700001</td>\n",
       "      <td>48.799999</td>\n",
       "      <td>1756709</td>\n",
       "    </tr>\n",
       "    <tr>\n",
       "      <th>4</th>\n",
       "      <td>2019-07-24</td>\n",
       "      <td>49.400002</td>\n",
       "      <td>49.500000</td>\n",
       "      <td>48.250000</td>\n",
       "      <td>48.450001</td>\n",
       "      <td>671080</td>\n",
       "    </tr>\n",
       "  </tbody>\n",
       "</table>\n",
       "</div>"
      ],
      "text/plain": [
       "        Date       Open       High        Low      Close   Volume\n",
       "0 2019-07-18  48.299999  49.750000  46.950001  47.500000   938262\n",
       "1 2019-07-19  48.000000  48.150002  45.200001  45.799999  1180434\n",
       "2 2019-07-22  45.500000  47.450001  44.700001  46.799999  1022220\n",
       "3 2019-07-23  46.900002  49.349998  46.700001  48.799999  1756709\n",
       "4 2019-07-24  49.400002  49.500000  48.250000  48.450001   671080"
      ]
     },
     "execution_count": 8,
     "metadata": {},
     "output_type": "execute_result"
    }
   ],
   "source": [
    "dataset.head()"
   ]
  },
  {
   "cell_type": "code",
   "execution_count": 9,
   "id": "eba3db66",
   "metadata": {},
   "outputs": [
    {
     "data": {
      "text/plain": [
       "Date      0\n",
       "Open      0\n",
       "High      0\n",
       "Low       0\n",
       "Close     0\n",
       "Volume    0\n",
       "dtype: int64"
      ]
     },
     "execution_count": 9,
     "metadata": {},
     "output_type": "execute_result"
    }
   ],
   "source": [
    "dataset.isnull().sum()"
   ]
  },
  {
   "cell_type": "code",
   "execution_count": 10,
   "id": "68ab711b",
   "metadata": {},
   "outputs": [
    {
     "data": {
      "text/plain": [
       "Date      False\n",
       "Open      False\n",
       "High      False\n",
       "Low       False\n",
       "Close     False\n",
       "Volume    False\n",
       "dtype: bool"
      ]
     },
     "execution_count": 10,
     "metadata": {},
     "output_type": "execute_result"
    }
   ],
   "source": [
    "dataset.isna().any()"
   ]
  },
  {
   "cell_type": "code",
   "execution_count": 11,
   "id": "ed26a9c4",
   "metadata": {},
   "outputs": [
    {
     "name": "stdout",
     "output_type": "stream",
     "text": [
      "<class 'pandas.core.frame.DataFrame'>\n",
      "RangeIndex: 914 entries, 0 to 913\n",
      "Data columns (total 6 columns):\n",
      " #   Column  Non-Null Count  Dtype         \n",
      "---  ------  --------------  -----         \n",
      " 0   Date    914 non-null    datetime64[ns]\n",
      " 1   Open    914 non-null    float64       \n",
      " 2   High    914 non-null    float64       \n",
      " 3   Low     914 non-null    float64       \n",
      " 4   Close   914 non-null    float64       \n",
      " 5   Volume  914 non-null    int64         \n",
      "dtypes: datetime64[ns](1), float64(4), int64(1)\n",
      "memory usage: 43.0 KB\n"
     ]
    }
   ],
   "source": [
    "dataset.info()"
   ]
  },
  {
   "cell_type": "code",
   "execution_count": 12,
   "id": "4a75a5a7",
   "metadata": {},
   "outputs": [
    {
     "data": {
      "text/html": [
       "<div>\n",
       "<style scoped>\n",
       "    .dataframe tbody tr th:only-of-type {\n",
       "        vertical-align: middle;\n",
       "    }\n",
       "\n",
       "    .dataframe tbody tr th {\n",
       "        vertical-align: top;\n",
       "    }\n",
       "\n",
       "    .dataframe thead th {\n",
       "        text-align: right;\n",
       "    }\n",
       "</style>\n",
       "<table border=\"1\" class=\"dataframe\">\n",
       "  <thead>\n",
       "    <tr style=\"text-align: right;\">\n",
       "      <th></th>\n",
       "      <th>Open</th>\n",
       "      <th>High</th>\n",
       "      <th>Low</th>\n",
       "      <th>Close</th>\n",
       "      <th>Volume</th>\n",
       "    </tr>\n",
       "  </thead>\n",
       "  <tbody>\n",
       "    <tr>\n",
       "      <th>count</th>\n",
       "      <td>914.000000</td>\n",
       "      <td>914.000000</td>\n",
       "      <td>914.000000</td>\n",
       "      <td>914.000000</td>\n",
       "      <td>9.140000e+02</td>\n",
       "    </tr>\n",
       "    <tr>\n",
       "      <th>mean</th>\n",
       "      <td>1088.686760</td>\n",
       "      <td>1111.479704</td>\n",
       "      <td>1060.682879</td>\n",
       "      <td>1085.655087</td>\n",
       "      <td>1.603336e+06</td>\n",
       "    </tr>\n",
       "    <tr>\n",
       "      <th>std</th>\n",
       "      <td>770.517601</td>\n",
       "      <td>786.741404</td>\n",
       "      <td>748.111335</td>\n",
       "      <td>765.565453</td>\n",
       "      <td>2.408774e+06</td>\n",
       "    </tr>\n",
       "    <tr>\n",
       "      <th>min</th>\n",
       "      <td>43.000000</td>\n",
       "      <td>44.000000</td>\n",
       "      <td>42.500000</td>\n",
       "      <td>43.400002</td>\n",
       "      <td>2.679600e+04</td>\n",
       "    </tr>\n",
       "    <tr>\n",
       "      <th>25%</th>\n",
       "      <td>342.962509</td>\n",
       "      <td>348.162506</td>\n",
       "      <td>338.000000</td>\n",
       "      <td>341.487510</td>\n",
       "      <td>4.934845e+05</td>\n",
       "    </tr>\n",
       "    <tr>\n",
       "      <th>50%</th>\n",
       "      <td>1068.000000</td>\n",
       "      <td>1090.000000</td>\n",
       "      <td>1048.174988</td>\n",
       "      <td>1067.950012</td>\n",
       "      <td>9.484965e+05</td>\n",
       "    </tr>\n",
       "    <tr>\n",
       "      <th>75%</th>\n",
       "      <td>1850.750000</td>\n",
       "      <td>1897.175018</td>\n",
       "      <td>1800.950012</td>\n",
       "      <td>1854.362518</td>\n",
       "      <td>1.845506e+06</td>\n",
       "    </tr>\n",
       "    <tr>\n",
       "      <th>max</th>\n",
       "      <td>3035.000000</td>\n",
       "      <td>3050.000000</td>\n",
       "      <td>2850.000000</td>\n",
       "      <td>2970.500000</td>\n",
       "      <td>4.514809e+07</td>\n",
       "    </tr>\n",
       "  </tbody>\n",
       "</table>\n",
       "</div>"
      ],
      "text/plain": [
       "              Open         High          Low        Close        Volume\n",
       "count   914.000000   914.000000   914.000000   914.000000  9.140000e+02\n",
       "mean   1088.686760  1111.479704  1060.682879  1085.655087  1.603336e+06\n",
       "std     770.517601   786.741404   748.111335   765.565453  2.408774e+06\n",
       "min      43.000000    44.000000    42.500000    43.400002  2.679600e+04\n",
       "25%     342.962509   348.162506   338.000000   341.487510  4.934845e+05\n",
       "50%    1068.000000  1090.000000  1048.174988  1067.950012  9.484965e+05\n",
       "75%    1850.750000  1897.175018  1800.950012  1854.362518  1.845506e+06\n",
       "max    3035.000000  3050.000000  2850.000000  2970.500000  4.514809e+07"
      ]
     },
     "execution_count": 12,
     "metadata": {},
     "output_type": "execute_result"
    }
   ],
   "source": [
    "dataset.describe()"
   ]
  },
  {
   "cell_type": "code",
   "execution_count": 13,
   "id": "475c5b5b",
   "metadata": {},
   "outputs": [
    {
     "data": {
      "text/plain": [
       "Date      0\n",
       "Open      0\n",
       "High      0\n",
       "Low       0\n",
       "Close     0\n",
       "Volume    0\n",
       "dtype: int64"
      ]
     },
     "execution_count": 13,
     "metadata": {},
     "output_type": "execute_result"
    }
   ],
   "source": [
    "dataset.isnull().sum()"
   ]
  },
  {
   "cell_type": "code",
   "execution_count": 14,
   "id": "82b68b0c",
   "metadata": {},
   "outputs": [
    {
     "data": {
      "text/plain": [
       "Date      False\n",
       "Open      False\n",
       "High      False\n",
       "Low       False\n",
       "Close     False\n",
       "Volume    False\n",
       "dtype: bool"
      ]
     },
     "execution_count": 14,
     "metadata": {},
     "output_type": "execute_result"
    }
   ],
   "source": [
    "dataset.isna().any()"
   ]
  },
  {
   "cell_type": "code",
   "execution_count": 15,
   "id": "0e3ece59",
   "metadata": {},
   "outputs": [
    {
     "name": "stdout",
     "output_type": "stream",
     "text": [
      "<class 'pandas.core.frame.DataFrame'>\n",
      "RangeIndex: 914 entries, 0 to 913\n",
      "Data columns (total 6 columns):\n",
      " #   Column  Non-Null Count  Dtype         \n",
      "---  ------  --------------  -----         \n",
      " 0   Date    914 non-null    datetime64[ns]\n",
      " 1   Open    914 non-null    float64       \n",
      " 2   High    914 non-null    float64       \n",
      " 3   Low     914 non-null    float64       \n",
      " 4   Close   914 non-null    float64       \n",
      " 5   Volume  914 non-null    int64         \n",
      "dtypes: datetime64[ns](1), float64(4), int64(1)\n",
      "memory usage: 43.0 KB\n"
     ]
    }
   ],
   "source": [
    "dataset.info()"
   ]
  },
  {
   "cell_type": "code",
   "execution_count": 16,
   "id": "3842944d",
   "metadata": {},
   "outputs": [
    {
     "data": {
      "text/html": [
       "<div>\n",
       "<style scoped>\n",
       "    .dataframe tbody tr th:only-of-type {\n",
       "        vertical-align: middle;\n",
       "    }\n",
       "\n",
       "    .dataframe tbody tr th {\n",
       "        vertical-align: top;\n",
       "    }\n",
       "\n",
       "    .dataframe thead th {\n",
       "        text-align: right;\n",
       "    }\n",
       "</style>\n",
       "<table border=\"1\" class=\"dataframe\">\n",
       "  <thead>\n",
       "    <tr style=\"text-align: right;\">\n",
       "      <th></th>\n",
       "      <th>Open</th>\n",
       "      <th>High</th>\n",
       "      <th>Low</th>\n",
       "      <th>Close</th>\n",
       "      <th>Volume</th>\n",
       "    </tr>\n",
       "  </thead>\n",
       "  <tbody>\n",
       "    <tr>\n",
       "      <th>count</th>\n",
       "      <td>914.000000</td>\n",
       "      <td>914.000000</td>\n",
       "      <td>914.000000</td>\n",
       "      <td>914.000000</td>\n",
       "      <td>9.140000e+02</td>\n",
       "    </tr>\n",
       "    <tr>\n",
       "      <th>mean</th>\n",
       "      <td>1088.686760</td>\n",
       "      <td>1111.479704</td>\n",
       "      <td>1060.682879</td>\n",
       "      <td>1085.655087</td>\n",
       "      <td>1.603336e+06</td>\n",
       "    </tr>\n",
       "    <tr>\n",
       "      <th>std</th>\n",
       "      <td>770.517601</td>\n",
       "      <td>786.741404</td>\n",
       "      <td>748.111335</td>\n",
       "      <td>765.565453</td>\n",
       "      <td>2.408774e+06</td>\n",
       "    </tr>\n",
       "    <tr>\n",
       "      <th>min</th>\n",
       "      <td>43.000000</td>\n",
       "      <td>44.000000</td>\n",
       "      <td>42.500000</td>\n",
       "      <td>43.400002</td>\n",
       "      <td>2.679600e+04</td>\n",
       "    </tr>\n",
       "    <tr>\n",
       "      <th>25%</th>\n",
       "      <td>342.962509</td>\n",
       "      <td>348.162506</td>\n",
       "      <td>338.000000</td>\n",
       "      <td>341.487510</td>\n",
       "      <td>4.934845e+05</td>\n",
       "    </tr>\n",
       "    <tr>\n",
       "      <th>50%</th>\n",
       "      <td>1068.000000</td>\n",
       "      <td>1090.000000</td>\n",
       "      <td>1048.174988</td>\n",
       "      <td>1067.950012</td>\n",
       "      <td>9.484965e+05</td>\n",
       "    </tr>\n",
       "    <tr>\n",
       "      <th>75%</th>\n",
       "      <td>1850.750000</td>\n",
       "      <td>1897.175018</td>\n",
       "      <td>1800.950012</td>\n",
       "      <td>1854.362518</td>\n",
       "      <td>1.845506e+06</td>\n",
       "    </tr>\n",
       "    <tr>\n",
       "      <th>max</th>\n",
       "      <td>3035.000000</td>\n",
       "      <td>3050.000000</td>\n",
       "      <td>2850.000000</td>\n",
       "      <td>2970.500000</td>\n",
       "      <td>4.514809e+07</td>\n",
       "    </tr>\n",
       "  </tbody>\n",
       "</table>\n",
       "</div>"
      ],
      "text/plain": [
       "              Open         High          Low        Close        Volume\n",
       "count   914.000000   914.000000   914.000000   914.000000  9.140000e+02\n",
       "mean   1088.686760  1111.479704  1060.682879  1085.655087  1.603336e+06\n",
       "std     770.517601   786.741404   748.111335   765.565453  2.408774e+06\n",
       "min      43.000000    44.000000    42.500000    43.400002  2.679600e+04\n",
       "25%     342.962509   348.162506   338.000000   341.487510  4.934845e+05\n",
       "50%    1068.000000  1090.000000  1048.174988  1067.950012  9.484965e+05\n",
       "75%    1850.750000  1897.175018  1800.950012  1854.362518  1.845506e+06\n",
       "max    3035.000000  3050.000000  2850.000000  2970.500000  4.514809e+07"
      ]
     },
     "execution_count": 16,
     "metadata": {},
     "output_type": "execute_result"
    }
   ],
   "source": [
    "dataset.describe()"
   ]
  },
  {
   "cell_type": "code",
   "execution_count": 17,
   "id": "8857b1c9",
   "metadata": {},
   "outputs": [
    {
     "name": "stdout",
     "output_type": "stream",
     "text": [
      "914\n"
     ]
    }
   ],
   "source": [
    "print(len(dataset))"
   ]
  },
  {
   "cell_type": "code",
   "execution_count": 18,
   "id": "c338cb02",
   "metadata": {},
   "outputs": [
    {
     "data": {
      "text/plain": [
       "<Axes: >"
      ]
     },
     "execution_count": 18,
     "metadata": {},
     "output_type": "execute_result"
    },
    {
     "data": {
      "image/png": "[encoded data removed]",
      "text/plain": [
       "<Figure size 1600x600 with 1 Axes>"
      ]
     },
     "metadata": {},
     "output_type": "display_data"
    }
   ],
   "source": [
    "dataset['Open'].plot(figsize=(16,6))"
   ]
  },
  {
   "cell_type": "code",
   "execution_count": 19,
   "id": "9ebc6891",
   "metadata": {},
   "outputs": [],
   "source": [
    "x = dataset[['Open','High','Low','Volume',]]\n",
    "y = dataset['Close']"
   ]
  },
  {
   "cell_type": "code",
   "execution_count": 20,
   "id": "90b653a5",
   "metadata": {},
   "outputs": [],
   "source": [
    "from sklearn.model_selection import train_test_split\n",
    "x_train,x_test,y_train,y_test= train_test_split(x,y,random_state = 0)"
   ]
  },
  {
   "cell_type": "code",
   "execution_count": 21,
   "id": "ab973a81",
   "metadata": {},
   "outputs": [
    {
     "data": {
      "text/plain": [
       "(685, 4)"
      ]
     },
     "execution_count": 21,
     "metadata": {},
     "output_type": "execute_result"
    }
   ],
   "source": [
    "x_train.shape\n"
   ]
  },
  {
   "cell_type": "code",
   "execution_count": 22,
   "id": "b22e1d4b",
   "metadata": {},
   "outputs": [
    {
     "data": {
      "text/plain": [
       "(229, 4)"
      ]
     },
     "execution_count": 22,
     "metadata": {},
     "output_type": "execute_result"
    }
   ],
   "source": [
    "x_test.shape"
   ]
  },
  {
   "cell_type": "code",
   "execution_count": 26,
   "id": "222b21ef",
   "metadata": {},
   "outputs": [],
   "source": [
    "from sklearn.linear_model import LinearRegression\n",
    "from sklearn.metrics import confusion_matrix,accuracy_score\n",
    "regressor = LinearRegression()"
   ]
  },
  {
   "cell_type": "code",
   "execution_count": 28,
   "id": "f1cbb14c",
   "metadata": {},
   "outputs": [
    {
     "data": {
      "text/html": [
       "<style>#sk-container-id-2 {color: black;}#sk-container-id-2 pre{padding: 0;}#sk-container-id-2 div.sk-toggleable {background-color: white;}#sk-container-id-2 label.sk-toggleable__label {cursor: pointer;display: block;width: 100%;margin-bottom: 0;padding: 0.3em;box-sizing: border-box;text-align: center;}#sk-container-id-2 label.sk-toggleable__label-arrow:before {content: \"▸\";float: left;margin-right: 0.25em;color: #696969;}#sk-container-id-2 label.sk-toggleable__label-arrow:hover:before {color: black;}#sk-container-id-2 div.sk-estimator:hover label.sk-toggleable__label-arrow:before {color: black;}#sk-container-id-2 div.sk-toggleable__content {max-height: 0;max-width: 0;overflow: hidden;text-align: left;background-color: #f0f8ff;}#sk-container-id-2 div.sk-toggleable__content pre {margin: 0.2em;color: black;border-radius: 0.25em;background-color: #f0f8ff;}#sk-container-id-2 input.sk-toggleable__control:checked~div.sk-toggleable__content {max-height: 200px;max-width: 100%;overflow: auto;}#sk-container-id-2 input.sk-toggleable__control:checked~label.sk-toggleable__label-arrow:before {content: \"▾\";}#sk-container-id-2 div.sk-estimator input.sk-toggleable__control:checked~label.sk-toggleable__label {background-color: #d4ebff;}#sk-container-id-2 div.sk-label input.sk-toggleable__control:checked~label.sk-toggleable__label {background-color: #d4ebff;}#sk-container-id-2 input.sk-hidden--visually {border: 0;clip: rect(1px 1px 1px 1px);clip: rect(1px, 1px, 1px, 1px);height: 1px;margin: -1px;overflow: hidden;padding: 0;position: absolute;width: 1px;}#sk-container-id-2 div.sk-estimator {font-family: monospace;background-color: #f0f8ff;border: 1px dotted black;border-radius: 0.25em;box-sizing: border-box;margin-bottom: 0.5em;}#sk-container-id-2 div.sk-estimator:hover {background-color: #d4ebff;}#sk-container-id-2 div.sk-parallel-item::after {content: \"\";width: 100%;border-bottom: 1px solid gray;flex-grow: 1;}#sk-container-id-2 div.sk-label:hover label.sk-toggleable__label {background-color: #d4ebff;}#sk-container-id-2 div.sk-serial::before {content: \"\";position: absolute;border-left: 1px solid gray;box-sizing: border-box;top: 0;bottom: 0;left: 50%;z-index: 0;}#sk-container-id-2 div.sk-serial {display: flex;flex-direction: column;align-items: center;background-color: white;padding-right: 0.2em;padding-left: 0.2em;position: relative;}#sk-container-id-2 div.sk-item {position: relative;z-index: 1;}#sk-container-id-2 div.sk-parallel {display: flex;align-items: stretch;justify-content: center;background-color: white;position: relative;}#sk-container-id-2 div.sk-item::before, #sk-container-id-2 div.sk-parallel-item::before {content: \"\";position: absolute;border-left: 1px solid gray;box-sizing: border-box;top: 0;bottom: 0;left: 50%;z-index: -1;}#sk-container-id-2 div.sk-parallel-item {display: flex;flex-direction: column;z-index: 1;position: relative;background-color: white;}#sk-container-id-2 div.sk-parallel-item:first-child::after {align-self: flex-end;width: 50%;}#sk-container-id-2 div.sk-parallel-item:last-child::after {align-self: flex-start;width: 50%;}#sk-container-id-2 div.sk-parallel-item:only-child::after {width: 0;}#sk-container-id-2 div.sk-dashed-wrapped {border: 1px dashed gray;margin: 0 0.4em 0.5em 0.4em;box-sizing: border-box;padding-bottom: 0.4em;background-color: white;}#sk-container-id-2 div.sk-label label {font-family: monospace;font-weight: bold;display: inline-block;line-height: 1.2em;}#sk-container-id-2 div.sk-label-container {text-align: center;}#sk-container-id-2 div.sk-container {/* jupyter's `normalize.less` sets `[hidden] { display: none; }` but bootstrap.min.css set `[hidden] { display: none !important; }` so we also need the `!important` here to be able to override the default hidden behavior on the sphinx rendered scikit-learn.org. See: https://github.com/scikit-learn/scikit-learn/issues/21755 */display: inline-block !important;position: relative;}#sk-container-id-2 div.sk-text-repr-fallback {display: none;}</style><div id=\"sk-container-id-2\" class=\"sk-top-container\"><div class=\"sk-text-repr-fallback\"><pre>LinearRegression()</pre><b>In a Jupyter environment, please rerun this cell to show the HTML representation or trust the notebook. <br />On GitHub, the HTML representation is unable to render, please try loading this page with nbviewer.org.</b></div><div class=\"sk-container\" hidden><div class=\"sk-item\"><div class=\"sk-estimator sk-toggleable\"><input class=\"sk-toggleable__control sk-hidden--visually\" id=\"sk-estimator-id-2\" type=\"checkbox\" checked><label for=\"sk-estimator-id-2\" class=\"sk-toggleable__label sk-toggleable__label-arrow\">LinearRegression</label><div class=\"sk-toggleable__content\"><pre>LinearRegression()</pre></div></div></div></div></div>"
      ],
      "text/plain": [
       "LinearRegression()"
      ]
     },
     "execution_count": 28,
     "metadata": {},
     "output_type": "execute_result"
    }
   ],
   "source": [
    "regressor.fit(x_train,y_train)"
   ]
  },
  {
   "cell_type": "code",
   "execution_count": 29,
   "id": "ab62ccb1",
   "metadata": {},
   "outputs": [
    {
     "name": "stdout",
     "output_type": "stream",
     "text": [
      "[-4.11830630e-01  6.88200470e-01  7.23623061e-01 -1.22911342e-06]\n"
     ]
    }
   ],
   "source": [
    "print(regressor.coef_)"
   ]
  },
  {
   "cell_type": "code",
   "execution_count": 30,
   "id": "901582d7",
   "metadata": {},
   "outputs": [
    {
     "name": "stdout",
     "output_type": "stream",
     "text": [
      "3.1035052304430337\n"
     ]
    }
   ],
   "source": [
    "print(regressor.intercept_)"
   ]
  },
  {
   "cell_type": "code",
   "execution_count": 31,
   "id": "6bbea54d",
   "metadata": {},
   "outputs": [],
   "source": [
    "predicted = regressor.predict(x_test)"
   ]
  },
  {
   "cell_type": "code",
   "execution_count": 32,
   "id": "243f541c",
   "metadata": {},
   "outputs": [
    {
     "name": "stdout",
     "output_type": "stream",
     "text": [
      "            Open         High          Low   Volume\n",
      "252   338.000000   345.750000   333.500000   566831\n",
      "695  2535.000000  2710.000000  2486.699951  1287498\n",
      "144   200.800003   200.800003   188.449997   839722\n",
      "748  2124.850098  2160.000000  2115.750000  1166283\n",
      "145   191.899994   198.699997   191.750000  2501070\n",
      "..           ...          ...          ...      ...\n",
      "351  1023.900024  1059.400024  1013.750000   686579\n",
      "172   147.300003   154.250000   146.949997   452205\n",
      "476  1150.000000  1176.900024  1141.000000  2492565\n",
      "864  1904.699951  1906.300049  1864.050049   504917\n",
      "665  1928.500000  1947.400024  1895.000000   579479\n",
      "\n",
      "[229 rows x 4 columns]\n"
     ]
    }
   ],
   "source": [
    "print(x_test)"
   ]
  },
  {
   "cell_type": "code",
   "execution_count": 33,
   "id": "da5fc0fc",
   "metadata": {},
   "outputs": [
    {
     "data": {
      "text/plain": [
       "(229,)"
      ]
     },
     "execution_count": 33,
     "metadata": {},
     "output_type": "execute_result"
    }
   ],
   "source": [
    "predicted.shape"
   ]
  },
  {
   "cell_type": "code",
   "execution_count": 34,
   "id": "941e19cd",
   "metadata": {},
   "outputs": [],
   "source": [
    "dframe = pd.DataFrame(y_test,predicted)"
   ]
  },
  {
   "cell_type": "code",
   "execution_count": 35,
   "id": "8ed3be16",
   "metadata": {},
   "outputs": [],
   "source": [
    "dfr = pd.DataFrame({' Actual Price':y_test,'Predicted Price':predicted})"
   ]
  },
  {
   "cell_type": "code",
   "execution_count": 36,
   "id": "3b6a6ce3",
   "metadata": {},
   "outputs": [
    {
     "name": "stdout",
     "output_type": "stream",
     "text": [
      "      Actual Price  Predicted Price\n",
      "252     338.399994       342.481656\n",
      "695    2648.050049      2621.987081\n",
      "144     189.250000       193.933220\n",
      "748    2137.600098      2144.110163\n",
      "145     197.850006       196.499264\n",
      "..             ...              ...\n",
      "351    1041.550049      1043.238702\n",
      "172     153.250000       154.376370\n",
      "476    1167.400024      1162.031698\n",
      "864    1877.150024      1878.855316\n",
      "665    1921.250000      1919.643202\n",
      "\n",
      "[229 rows x 2 columns]\n"
     ]
    }
   ],
   "source": [
    "print(dfr)"
   ]
  },
  {
   "cell_type": "code",
   "execution_count": 37,
   "id": "5ae086f4",
   "metadata": {},
   "outputs": [
    {
     "data": {
      "text/html": [
       "<div>\n",
       "<style scoped>\n",
       "    .dataframe tbody tr th:only-of-type {\n",
       "        vertical-align: middle;\n",
       "    }\n",
       "\n",
       "    .dataframe tbody tr th {\n",
       "        vertical-align: top;\n",
       "    }\n",
       "\n",
       "    .dataframe thead th {\n",
       "        text-align: right;\n",
       "    }\n",
       "</style>\n",
       "<table border=\"1\" class=\"dataframe\">\n",
       "  <thead>\n",
       "    <tr style=\"text-align: right;\">\n",
       "      <th></th>\n",
       "      <th>Actual Price</th>\n",
       "      <th>Predicted Price</th>\n",
       "    </tr>\n",
       "  </thead>\n",
       "  <tbody>\n",
       "    <tr>\n",
       "      <th>252</th>\n",
       "      <td>338.399994</td>\n",
       "      <td>342.481656</td>\n",
       "    </tr>\n",
       "    <tr>\n",
       "      <th>695</th>\n",
       "      <td>2648.050049</td>\n",
       "      <td>2621.987081</td>\n",
       "    </tr>\n",
       "    <tr>\n",
       "      <th>144</th>\n",
       "      <td>189.250000</td>\n",
       "      <td>193.933220</td>\n",
       "    </tr>\n",
       "    <tr>\n",
       "      <th>748</th>\n",
       "      <td>2137.600098</td>\n",
       "      <td>2144.110163</td>\n",
       "    </tr>\n",
       "    <tr>\n",
       "      <th>145</th>\n",
       "      <td>197.850006</td>\n",
       "      <td>196.499264</td>\n",
       "    </tr>\n",
       "    <tr>\n",
       "      <th>372</th>\n",
       "      <td>949.750000</td>\n",
       "      <td>952.575048</td>\n",
       "    </tr>\n",
       "    <tr>\n",
       "      <th>55</th>\n",
       "      <td>78.750000</td>\n",
       "      <td>72.841038</td>\n",
       "    </tr>\n",
       "    <tr>\n",
       "      <th>910</th>\n",
       "      <td>848.650024</td>\n",
       "      <td>814.366774</td>\n",
       "    </tr>\n",
       "    <tr>\n",
       "      <th>97</th>\n",
       "      <td>131.899994</td>\n",
       "      <td>133.073520</td>\n",
       "    </tr>\n",
       "    <tr>\n",
       "      <th>14</th>\n",
       "      <td>47.799999</td>\n",
       "      <td>50.311241</td>\n",
       "    </tr>\n",
       "    <tr>\n",
       "      <th>653</th>\n",
       "      <td>1783.949951</td>\n",
       "      <td>1796.902784</td>\n",
       "    </tr>\n",
       "    <tr>\n",
       "      <th>497</th>\n",
       "      <td>988.250000</td>\n",
       "      <td>958.050997</td>\n",
       "    </tr>\n",
       "    <tr>\n",
       "      <th>568</th>\n",
       "      <td>1204.500000</td>\n",
       "      <td>1197.674172</td>\n",
       "    </tr>\n",
       "    <tr>\n",
       "      <th>196</th>\n",
       "      <td>222.600006</td>\n",
       "      <td>219.364670</td>\n",
       "    </tr>\n",
       "    <tr>\n",
       "      <th>722</th>\n",
       "      <td>1711.250000</td>\n",
       "      <td>1729.497949</td>\n",
       "    </tr>\n",
       "    <tr>\n",
       "      <th>204</th>\n",
       "      <td>235.100006</td>\n",
       "      <td>243.072054</td>\n",
       "    </tr>\n",
       "    <tr>\n",
       "      <th>548</th>\n",
       "      <td>1222.199951</td>\n",
       "      <td>1221.281762</td>\n",
       "    </tr>\n",
       "    <tr>\n",
       "      <th>181</th>\n",
       "      <td>198.949997</td>\n",
       "      <td>201.499517</td>\n",
       "    </tr>\n",
       "    <tr>\n",
       "      <th>656</th>\n",
       "      <td>1860.050049</td>\n",
       "      <td>1866.039249</td>\n",
       "    </tr>\n",
       "    <tr>\n",
       "      <th>907</th>\n",
       "      <td>740.400024</td>\n",
       "      <td>728.703288</td>\n",
       "    </tr>\n",
       "    <tr>\n",
       "      <th>669</th>\n",
       "      <td>1914.699951</td>\n",
       "      <td>1916.143918</td>\n",
       "    </tr>\n",
       "    <tr>\n",
       "      <th>31</th>\n",
       "      <td>43.849998</td>\n",
       "      <td>46.635450</td>\n",
       "    </tr>\n",
       "    <tr>\n",
       "      <th>270</th>\n",
       "      <td>414.200012</td>\n",
       "      <td>402.758494</td>\n",
       "    </tr>\n",
       "    <tr>\n",
       "      <th>103</th>\n",
       "      <td>135.100006</td>\n",
       "      <td>137.758573</td>\n",
       "    </tr>\n",
       "    <tr>\n",
       "      <th>285</th>\n",
       "      <td>638.900024</td>\n",
       "      <td>628.018041</td>\n",
       "    </tr>\n",
       "  </tbody>\n",
       "</table>\n",
       "</div>"
      ],
      "text/plain": [
       "      Actual Price  Predicted Price\n",
       "252     338.399994       342.481656\n",
       "695    2648.050049      2621.987081\n",
       "144     189.250000       193.933220\n",
       "748    2137.600098      2144.110163\n",
       "145     197.850006       196.499264\n",
       "372     949.750000       952.575048\n",
       "55       78.750000        72.841038\n",
       "910     848.650024       814.366774\n",
       "97      131.899994       133.073520\n",
       "14       47.799999        50.311241\n",
       "653    1783.949951      1796.902784\n",
       "497     988.250000       958.050997\n",
       "568    1204.500000      1197.674172\n",
       "196     222.600006       219.364670\n",
       "722    1711.250000      1729.497949\n",
       "204     235.100006       243.072054\n",
       "548    1222.199951      1221.281762\n",
       "181     198.949997       201.499517\n",
       "656    1860.050049      1866.039249\n",
       "907     740.400024       728.703288\n",
       "669    1914.699951      1916.143918\n",
       "31       43.849998        46.635450\n",
       "270     414.200012       402.758494\n",
       "103     135.100006       137.758573\n",
       "285     638.900024       628.018041"
      ]
     },
     "execution_count": 37,
     "metadata": {},
     "output_type": "execute_result"
    }
   ],
   "source": [
    "dfr.head(25)"
   ]
  },
  {
   "cell_type": "code",
   "execution_count": 38,
   "id": "cb82ec1d",
   "metadata": {},
   "outputs": [],
   "source": [
    "from sklearn.metrics import confusion_matrix, accuracy_score"
   ]
  },
  {
   "cell_type": "code",
   "execution_count": 40,
   "id": "3df59ef7",
   "metadata": {},
   "outputs": [
    {
     "data": {
      "text/plain": [
       "0.9995413005281885"
      ]
     },
     "execution_count": 40,
     "metadata": {},
     "output_type": "execute_result"
    }
   ],
   "source": [
    "regressor.score(x_test,y_test)"
   ]
  },
  {
   "cell_type": "code",
   "execution_count": 41,
   "id": "69088f88",
   "metadata": {},
   "outputs": [],
   "source": [
    "import math"
   ]
  },
  {
   "cell_type": "code",
   "execution_count": 43,
   "id": "486edde1",
   "metadata": {},
   "outputs": [
    {
     "name": "stdout",
     "output_type": "stream",
     "text": [
      "Mean Absolute Error: 11.244501216228915\n"
     ]
    }
   ],
   "source": [
    "print('Mean Absolute Error:',metrics.mean_absolute_error(y_test,predicted))"
   ]
  },
  {
   "cell_type": "code",
   "execution_count": 44,
   "id": "cad3b43c",
   "metadata": {},
   "outputs": [
    {
     "name": "stdout",
     "output_type": "stream",
     "text": [
      "Mean Squared Error: 261.71691609719466\n"
     ]
    }
   ],
   "source": [
    "print('Mean Squared Error:',metrics.mean_squared_error(y_test,predicted))"
   ]
  },
  {
   "cell_type": "code",
   "execution_count": 45,
   "id": "2428a4d8",
   "metadata": {},
   "outputs": [
    {
     "name": "stdout",
     "output_type": "stream",
     "text": [
      "Root Mean Squared Error: 16.17766720195451\n"
     ]
    }
   ],
   "source": [
    "print('Root Mean Squared Error:',math.sqrt(metrics.mean_squared_error(y_test,predicted)))"
   ]
  },
  {
   "cell_type": "code",
   "execution_count": 47,
   "id": "405ab3cd",
   "metadata": {},
   "outputs": [],
   "source": [
    "graph = dfr.head(20)"
   ]
  },
  {
   "cell_type": "code",
   "execution_count": 48,
   "id": "a824aa62",
   "metadata": {},
   "outputs": [
    {
     "data": {
      "text/plain": [
       "<Axes: >"
      ]
     },
     "execution_count": 48,
     "metadata": {},
     "output_type": "execute_result"
    },
    {
     "data": {
      "image/png": "[encoded data removed]",
      "text/plain": [
       "<Figure size 640x480 with 1 Axes>"
      ]
     },
     "metadata": {},
     "output_type": "display_data"
    }
   ],
   "source": [
    "graph.plot(kind='bar')"
   ]
  },
  {
   "cell_type": "code",
   "execution_count": null,
   "id": "d716d1af",
   "metadata": {},
   "outputs": [],
   "source": []
  }
 ],
 "metadata": {
  "kernelspec": {
   "display_name": "Python 3 (ipykernel)",
   "language": "python",
   "name": "python3"
  },
  "language_info": {
   "codemirror_mode": {
    "name": "ipython",
    "version": 3
   },
   "file_extension": ".py",
   "mimetype": "text/x-python",
   "name": "python",
   "nbconvert_exporter": "python",
   "pygments_lexer": "ipython3",
   "version": "3.10.9"
  }
 },
 "nbformat": 4,
 "nbformat_minor": 5
}
