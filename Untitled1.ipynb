{
 "cells": [
  {
   "cell_type": "code",
   "execution_count": 1,
   "id": "b25fac8a",
   "metadata": {},
   "outputs": [
    {
     "data": {
      "text/html": [
       "<div>\n",
       "<style scoped>\n",
       "    .dataframe tbody tr th:only-of-type {\n",
       "        vertical-align: middle;\n",
       "    }\n",
       "\n",
       "    .dataframe tbody tr th {\n",
       "        vertical-align: top;\n",
       "    }\n",
       "\n",
       "    .dataframe thead th {\n",
       "        text-align: right;\n",
       "    }\n",
       "</style>\n",
       "<table border=\"1\" class=\"dataframe\">\n",
       "  <thead>\n",
       "    <tr style=\"text-align: right;\">\n",
       "      <th></th>\n",
       "      <th>Open</th>\n",
       "      <th>High</th>\n",
       "      <th>Low</th>\n",
       "      <th>Close</th>\n",
       "      <th>Adj Close</th>\n",
       "      <th>Volume</th>\n",
       "    </tr>\n",
       "    <tr>\n",
       "      <th>Date</th>\n",
       "      <th></th>\n",
       "      <th></th>\n",
       "      <th></th>\n",
       "      <th></th>\n",
       "      <th></th>\n",
       "      <th></th>\n",
       "    </tr>\n",
       "  </thead>\n",
       "  <tbody>\n",
       "    <tr>\n",
       "      <th>2023-03-17</th>\n",
       "      <td>810.000000</td>\n",
       "      <td>816.250000</td>\n",
       "      <td>803.250000</td>\n",
       "      <td>816.250000</td>\n",
       "      <td>816.250000</td>\n",
       "      <td>3378276</td>\n",
       "    </tr>\n",
       "    <tr>\n",
       "      <th>2023-03-20</th>\n",
       "      <td>797.950012</td>\n",
       "      <td>853.299988</td>\n",
       "      <td>775.450012</td>\n",
       "      <td>848.650024</td>\n",
       "      <td>848.650024</td>\n",
       "      <td>6908589</td>\n",
       "    </tr>\n",
       "    <tr>\n",
       "      <th>2023-03-21</th>\n",
       "      <td>868.000000</td>\n",
       "      <td>891.049988</td>\n",
       "      <td>865.650024</td>\n",
       "      <td>891.049988</td>\n",
       "      <td>891.049988</td>\n",
       "      <td>3819655</td>\n",
       "    </tr>\n",
       "    <tr>\n",
       "      <th>2023-03-22</th>\n",
       "      <td>923.000000</td>\n",
       "      <td>935.599976</td>\n",
       "      <td>923.000000</td>\n",
       "      <td>935.599976</td>\n",
       "      <td>935.599976</td>\n",
       "      <td>1825044</td>\n",
       "    </tr>\n",
       "    <tr>\n",
       "      <th>2023-03-23</th>\n",
       "      <td>982.000000</td>\n",
       "      <td>982.349976</td>\n",
       "      <td>977.750000</td>\n",
       "      <td>982.349976</td>\n",
       "      <td>982.349976</td>\n",
       "      <td>1170710</td>\n",
       "    </tr>\n",
       "  </tbody>\n",
       "</table>\n",
       "</div>"
      ],
      "text/plain": [
       "                  Open        High         Low       Close   Adj Close  \\\n",
       "Date                                                                     \n",
       "2023-03-17  810.000000  816.250000  803.250000  816.250000  816.250000   \n",
       "2023-03-20  797.950012  853.299988  775.450012  848.650024  848.650024   \n",
       "2023-03-21  868.000000  891.049988  865.650024  891.049988  891.049988   \n",
       "2023-03-22  923.000000  935.599976  923.000000  935.599976  935.599976   \n",
       "2023-03-23  982.000000  982.349976  977.750000  982.349976  982.349976   \n",
       "\n",
       "             Volume  \n",
       "Date                 \n",
       "2023-03-17  3378276  \n",
       "2023-03-20  6908589  \n",
       "2023-03-21  3819655  \n",
       "2023-03-22  1825044  \n",
       "2023-03-23  1170710  "
      ]
     },
     "execution_count": 1,
     "metadata": {},
     "output_type": "execute_result"
    }
   ],
   "source": [
    "#Polynomial\n",
    "import pandas as pd\n",
    "df = pd.read_csv('ADANIGREEN.NS.csv',index_col=0)\n",
    "df.tail()"
   ]
  },
  {
   "cell_type": "code",
   "execution_count": 6,
   "id": "e630c61e",
   "metadata": {},
   "outputs": [
    {
     "data": {
      "text/plain": [
       "Open         0\n",
       "High         0\n",
       "Low          0\n",
       "Close        0\n",
       "Adj Close    0\n",
       "Volume       0\n",
       "dtype: int64"
      ]
     },
     "execution_count": 6,
     "metadata": {},
     "output_type": "execute_result"
    }
   ],
   "source": [
    "df.isna().sum()"
   ]
  },
  {
   "cell_type": "code",
   "execution_count": 7,
   "id": "4b7481f0",
   "metadata": {},
   "outputs": [
    {
     "data": {
      "text/plain": [
       "array([  47.5     ,   45.799999,   46.799999,   48.799999,   48.450001,\n",
       "         49.599998,   46.400002,   45.599998,   46.849998,   47.799999,\n",
       "         47.349998,   46.5     ,   46.599998,   46.349998,   44.099998,\n",
       "         43.5     ,   43.849998,   43.650002,   44.950001,   44.049999,\n",
       "         43.400002,   44.450001,   45.049999,   45.099998,   45.5     ,\n",
       "         48.299999,   48.900002,   50.25    ,   55.549999,   54.849998,\n",
       "         53.049999,   50.150002,   51.599998,   52.200001,   52.700001,\n",
       "         52.549999,   59.150002,   57.349998,   58.25    ,   56.5     ,\n",
       "         61.200001,   65.150002,   68.050003,   71.449997,   73.800003,\n",
       "         78.75    ,   79.150002,   79.949997,   80.25    ,   88.849998,\n",
       "         89.599998,   86.599998,   86.650002,   86.150002,   88.949997,\n",
       "         90.199997,   89.5     ,   89.900002,   89.699997,   89.949997,\n",
       "         92.650002,   90.699997,   90.300003,   88.699997,   86.699997,\n",
       "         93.849998,   96.      ,   95.050003,   95.5     ,   94.050003,\n",
       "         96.199997,   98.75    ,   97.      ,  106.699997,  114.300003,\n",
       "        115.150002,  125.900002,  132.149994,  137.100006,  131.300003,\n",
       "        124.75    ,  128.550003,  129.949997,  126.400002,  124.650002,\n",
       "        126.900002,  132.550003,  131.899994,  132.649994,  134.399994,\n",
       "        135.550003,  135.100006,  134.25    ,  141.850006,  148.899994,\n",
       "        156.300003,  151.      ,  158.550003,  166.449997,  174.75    ,\n",
       "        183.449997,  192.600006,  200.600006,  210.600006,  221.100006,\n",
       "        232.149994,  220.550003,  209.550003,  199.100006,  189.149994,\n",
       "        179.699997,  188.649994,  198.050003,  202.25    ,  197.649994,\n",
       "        192.199997,  190.25    ,  190.75    ,  187.649994,  186.300003,\n",
       "        180.449997,  189.449997,  196.149994,  198.      ,  193.25    ,\n",
       "        202.899994,  213.      ,  213.350006,  211.25    ,  207.649994,\n",
       "        199.949997,  206.800003,  198.350006,  189.25    ,  197.850006,\n",
       "        194.850006,  185.899994,  180.550003,  171.550003,  163.      ,\n",
       "        154.949997,  156.050003,  159.5     ,  152.      ,  152.5     ,\n",
       "        144.899994,  137.699997,  130.850006,  124.349998,  123.400002,\n",
       "        117.699997,  129.399994,  135.649994,  142.350006,  135.25    ,\n",
       "        141.300003,  148.100006,  152.100006,  148.75    ,  146.949997,\n",
       "        153.25    ,  152.899994,  151.899994,  158.949997,  183.350006,\n",
       "        187.800003,  193.850006,  198.949997,  200.75    ,  191.300003,\n",
       "        197.199997,  200.      ,  195.949997,  200.649994,  203.649994,\n",
       "        207.949997,  210.449997,  210.800003,  211.850006,  210.550003,\n",
       "        212.25    ,  222.600006,  226.050003,  231.      ,  228.550003,\n",
       "        230.25    ,  229.25    ,  233.649994,  234.699997,  235.100006,\n",
       "        239.649994,  239.899994,  242.600006,  246.      ,  248.600006,\n",
       "        260.75    ,  273.75    ,  273.850006,  274.      ,  284.25    ,\n",
       "        297.75    ,  312.600006,  328.200012,  332.049988,  336.399994,\n",
       "        346.149994,  363.450012,  381.600006,  400.649994,  420.649994,\n",
       "        441.649994,  463.600006,  440.450012,  418.450012,  397.549988,\n",
       "        377.700012,  358.850006,  340.950012,  357.950012,  375.799988,\n",
       "        394.549988,  413.75    ,  393.100006,  373.600006,  371.049988,\n",
       "        364.75    ,  348.100006,  354.549988,  348.299988,  347.299988,\n",
       "        349.950012,  347.350006,  336.      ,  320.299988,  336.299988,\n",
       "        342.200012,  338.049988,  338.399994,  341.450012,  340.649994,\n",
       "        339.799988,  343.200012,  342.950012,  341.600006,  370.450012,\n",
       "        373.5     ,  360.649994,  362.5     ,  362.149994,  357.600006,\n",
       "        367.25    ,  373.549988,  371.      ,  375.399994,  376.549988,\n",
       "        414.200012,  424.700012,  427.649994,  432.75    ,  462.299988,\n",
       "        452.75    ,  494.649994,  544.099976,  571.299988,  542.75    ,\n",
       "        553.099976,  564.400024,  590.049988,  579.75    ,  608.650024,\n",
       "        638.900024,  670.799988,  675.549988,  666.75    ,  665.599976,\n",
       "        651.75    ,  619.200012,  588.25    ,  616.950012,  647.75    ,\n",
       "        680.099976,  714.099976,  737.599976,  747.099976,  749.450012,\n",
       "        735.900024,  699.299988,  696.150024,  683.950012,  671.549988,\n",
       "        705.099976,  725.450012,  704.25    ,  705.349976,  702.799988,\n",
       "        688.700012,  692.349976,  726.950012,  720.299988,  704.700012,\n",
       "        739.900024,  776.849976,  815.650024,  856.400024,  859.200012,\n",
       "        830.400024,  840.900024,  854.599976,  860.      ,  899.349976,\n",
       "        854.849976,  897.549988,  942.349976,  989.349976, 1008.599976,\n",
       "       1058.449951, 1080.949951, 1083.5     , 1134.550049, 1180.300049,\n",
       "       1205.150024, 1144.900024, 1104.449951, 1136.400024, 1134.699951,\n",
       "       1146.      , 1145.      , 1129.75    , 1106.25    , 1098.650024,\n",
       "       1070.099976, 1036.699951, 1041.5     , 1010.799988, 1013.650024,\n",
       "       1019.400024, 1041.550049, 1016.150024, 1020.299988, 1029.900024,\n",
       "       1044.949951, 1036.199951, 1038.      , 1038.699951, 1052.949951,\n",
       "       1052.599976, 1065.949951, 1082.25    , 1096.449951, 1107.25    ,\n",
       "       1063.099976, 1014.900024,  968.299988,  924.150024,  922.150024,\n",
       "        968.25    ,  947.75    ,  949.75    ,  992.849976, 1020.150024,\n",
       "       1048.800049, 1047.849976, 1031.099976, 1028.550049, 1032.900024,\n",
       "       1004.900024, 1024.25    , 1031.949951, 1026.699951, 1078.      ,\n",
       "       1077.150024, 1063.449951, 1086.050049, 1080.449951, 1074.599976,\n",
       "       1068.949951, 1062.849976, 1078.300049, 1104.25    , 1109.5     ,\n",
       "       1117.699951, 1141.449951, 1196.199951, 1169.349976, 1128.550049,\n",
       "       1159.849976, 1141.      , 1164.849976, 1176.300049, 1184.650024,\n",
       "       1172.75    , 1171.599976, 1166.199951, 1185.650024, 1160.599976,\n",
       "       1193.099976, 1219.800049, 1164.300049, 1135.849976, 1192.599976,\n",
       "       1252.199951, 1313.650024, 1291.349976, 1226.800049, 1212.349976,\n",
       "       1157.650024, 1104.849976, 1160.050049, 1164.199951, 1194.449951,\n",
       "       1165.5     , 1142.75    , 1085.650024, 1116.050049, 1122.699951,\n",
       "       1108.599976, 1056.349976, 1043.949951, 1030.449951, 1052.400024,\n",
       "       1049.25    , 1054.599976, 1054.699951, 1055.75    , 1018.950012,\n",
       "       1036.5     , 1045.099976, 1064.550049, 1099.599976, 1102.900024,\n",
       "       1102.849976, 1077.949951, 1049.800049, 1088.050049, 1142.449951,\n",
       "       1198.75    , 1243.650024, 1268.849976, 1299.199951, 1360.949951,\n",
       "       1314.25    , 1264.599976, 1266.599976, 1238.949951, 1268.199951,\n",
       "       1271.050049, 1299.800049, 1286.900024, 1277.25    , 1264.849976,\n",
       "       1267.550049, 1239.150024, 1233.5     , 1217.699951, 1212.900024,\n",
       "       1212.199951, 1182.75    , 1123.650024, 1067.550049, 1120.900024,\n",
       "       1167.400024, 1166.150024, 1139.699951, 1167.25    , 1119.849976,\n",
       "       1126.300049, 1124.900024, 1068.699951, 1015.299988,  964.549988,\n",
       "       1012.75    , 1017.049988, 1028.650024, 1004.200012,  989.200012,\n",
       "        979.700012,  995.799988, 1008.650024,  979.150024,  945.099976,\n",
       "        988.25    ,  980.25    ,  942.200012,  914.450012,  945.650024,\n",
       "        924.299988,  882.299988,  876.150024,  890.900024,  898.150024,\n",
       "        889.650024,  910.549988,  906.549988,  908.400024,  901.5     ,\n",
       "        913.700012,  919.099976,  925.25    ,  936.849976,  942.5     ,\n",
       "        935.849976,  933.650024,  949.700012,  997.150024, 1046.449951,\n",
       "       1049.099976, 1060.349976, 1068.349976, 1079.800049, 1085.349976,\n",
       "       1081.349976, 1112.75    , 1110.050049, 1158.300049, 1215.949951,\n",
       "       1185.199951, 1149.400024, 1126.949951, 1169.650024, 1153.25    ,\n",
       "       1131.150024, 1120.699951, 1141.550049, 1149.199951, 1151.800049,\n",
       "       1153.449951, 1144.5     , 1138.650024, 1146.599976, 1151.050049,\n",
       "       1176.099976, 1222.199951, 1214.599976, 1205.650024, 1176.550049,\n",
       "       1162.099976, 1208.349976, 1193.5     , 1206.550049, 1203.650024,\n",
       "       1181.349976, 1179.150024, 1198.949951, 1202.150024, 1202.400024,\n",
       "       1179.949951, 1206.099976, 1147.150024, 1152.849976, 1172.349976,\n",
       "       1174.25    , 1204.5     , 1200.400024, 1226.      , 1230.800049,\n",
       "       1228.849976, 1292.300049, 1305.050049, 1314.349976, 1313.5     ,\n",
       "       1345.75    , 1340.949951, 1407.050049, 1391.349976, 1405.050049,\n",
       "       1372.550049, 1352.75    , 1295.400024, 1328.599976, 1341.599976,\n",
       "       1389.650024, 1378.699951, 1389.699951, 1390.5     , 1390.099976,\n",
       "       1388.900024, 1385.949951, 1436.349976, 1439.25    , 1402.25    ,\n",
       "       1413.25    , 1369.5     , 1383.150024, 1403.099976, 1422.050049,\n",
       "       1385.400024, 1375.5     , 1398.800049, 1392.650024, 1311.050049,\n",
       "       1330.25    , 1346.900024, 1366.699951, 1399.650024, 1409.800049,\n",
       "       1423.099976, 1438.900024, 1567.949951, 1647.550049, 1661.800049,\n",
       "       1697.949951, 1835.300049, 1900.099976, 1938.449951, 1966.699951,\n",
       "       1934.550049, 1837.849976, 1929.      , 1910.25    , 1938.400024,\n",
       "       1877.849976, 1904.      , 1916.300049, 1912.550049, 1950.349976,\n",
       "       2024.650024, 1928.      , 1919.800049, 1907.949951, 1907.599976,\n",
       "       1862.150024, 1889.5     , 1931.75    , 2047.599976, 2041.849976,\n",
       "       1955.900024, 1971.949951, 1987.349976, 1849.75    , 1923.5     ,\n",
       "       1843.400024, 1882.550049, 1950.900024, 1894.300049, 1803.75    ,\n",
       "       1783.949951, 1828.75    , 1881.849976, 1860.050049, 1822.400024,\n",
       "       1798.75    , 1833.650024, 1901.199951, 1876.050049, 1877.449951,\n",
       "       1921.400024, 1911.400024, 1921.25    , 1930.849976, 1923.300049,\n",
       "       1857.150024, 1914.699951, 1945.099976, 2110.449951, 2189.800049,\n",
       "       2197.399902, 2166.      , 2321.850098, 2665.149902, 2792.399902,\n",
       "       2864.300049, 2970.5     , 2911.949951, 2810.850098, 2811.5     ,\n",
       "       2882.800049, 2824.      , 2952.449951, 2841.649902, 2912.199951,\n",
       "       2830.350098, 2671.350098, 2845.899902, 2874.800049, 2706.399902,\n",
       "       2486.699951, 2648.050049, 2436.800049, 2171.550049, 2281.699951,\n",
       "       2285.800049, 2396.100098, 2317.5     , 2273.649902, 2248.350098,\n",
       "       2136.300049, 2187.350098, 2164.      , 2166.449951, 2151.649902,\n",
       "       1888.949951, 1848.400024, 1925.800049, 1855.900024, 1802.349976,\n",
       "       1829.25    , 1801.900024, 1812.650024, 1757.599976, 1798.699951,\n",
       "       1788.75    , 1757.849976, 1711.099976, 1711.25    , 1743.650024,\n",
       "       1809.099976, 1736.099976, 1796.75    , 1857.599976, 1917.650024,\n",
       "       1909.849976, 1901.699951, 1929.599976, 1963.650024, 1883.599976,\n",
       "       1876.400024, 1903.699951, 1909.699951, 1921.      , 2207.350098,\n",
       "       2294.75    , 2104.75    , 2087.      , 2072.649902, 2093.25    ,\n",
       "       2109.      , 2084.300049, 2109.75    , 2120.449951, 2137.600098,\n",
       "       2103.649902, 2099.199951, 2143.949951, 2174.699951, 2273.699951,\n",
       "       2296.149902, 2204.600098, 2190.949951, 2106.199951, 2165.199951,\n",
       "       2164.949951, 2164.899902, 2176.      , 2218.199951, 2227.050049,\n",
       "       2296.350098, 2411.350098, 2519.75    , 2412.899902, 2358.850098,\n",
       "       2368.300049, 2392.75    , 2337.850098, 2436.199951, 2393.100098,\n",
       "       2383.100098, 2353.800049, 2374.899902, 2346.949951, 2334.050049,\n",
       "       2315.899902, 2355.949951, 2335.649902, 2293.600098, 2343.899902,\n",
       "       2316.600098, 2346.350098, 2399.949951, 2362.800049, 2363.600098,\n",
       "       2323.850098, 2210.350098, 2146.300049, 2051.050049, 2004.050049,\n",
       "       2260.800049, 2074.050049, 2134.199951, 2201.699951, 2204.149902,\n",
       "       2155.899902, 2128.800049, 2099.100098, 2083.350098, 2033.150024,\n",
       "       2154.449951, 2153.75    , 2119.800049, 2138.899902, 2105.300049,\n",
       "       2121.25    , 2079.899902, 2117.600098, 2098.550049, 2102.899902,\n",
       "       2137.050049, 2106.699951, 2165.699951, 2215.5     , 2196.699951,\n",
       "       2178.550049, 2196.949951, 2110.149902, 2102.600098, 2085.399902,\n",
       "       2003.300049, 1986.099976, 2036.5     , 2043.050049, 2023.949951,\n",
       "       1990.699951, 2012.050049, 2116.5     , 2113.550049, 2062.300049,\n",
       "       2042.099976, 2063.300049, 2032.699951, 2052.699951, 2053.449951,\n",
       "       2024.050049, 2021.400024, 2018.150024, 2024.900024, 2044.25    ,\n",
       "       2062.050049, 2061.649902, 1968.25    , 1980.75    , 1809.050049,\n",
       "       1876.849976, 1908.699951, 1897.849976, 1931.800049, 1888.699951,\n",
       "       1892.949951, 1860.5     , 1860.      , 1838.25    , 1891.449951,\n",
       "       1895.199951, 1877.150024, 1889.849976, 1915.650024, 2089.800049,\n",
       "       2166.149902, 2096.899902, 1954.300049, 1975.599976, 1931.849976,\n",
       "       1916.800049, 1857.800049, 1486.25    , 1189.      , 1223.900024,\n",
       "       1155.349976, 1039.849976,  935.900024,  889.099976,  844.650024,\n",
       "        802.450012,  762.349976,  724.25    ,  688.049988,  653.650024,\n",
       "        621.      ,  616.299988,  628.650024,  597.25    ,  567.400024,\n",
       "        539.049988,  512.099976,  486.5     ,  462.200012,  485.299988,\n",
       "        509.549988,  535.      ,  561.75    ,  589.799988,  619.25    ,\n",
       "        650.200012,  682.700012,  716.799988,  706.099976,  740.400024,\n",
       "        777.400024,  816.25    ,  848.650024,  891.049988,  935.599976,\n",
       "        982.349976])"
      ]
     },
     "execution_count": 7,
     "metadata": {},
     "output_type": "execute_result"
    }
   ],
   "source": [
    "df['Adj Close'].unique()"
   ]
  },
  {
   "cell_type": "code",
   "execution_count": 8,
   "id": "b69c1caf",
   "metadata": {},
   "outputs": [],
   "source": [
    "df['High'] = df['High'].replace({'800':1 ,'900':2})\n",
    "df['Low'] = df['Low'].replace({'750':1 ,'900':2})\n",
    "df['Adj Close'] = df['Adj Close'].replace({'47.5':1,'45.799999':2,'46.799999':3,'48.799999':4,'48.450001':5})"
   ]
  },
  {
   "cell_type": "code",
   "execution_count": 9,
   "id": "9e3b2571",
   "metadata": {},
   "outputs": [],
   "source": [
    "x = df.drop(columns = ['Volume'])\n",
    "y = df['Volume']"
   ]
  },
  {
   "cell_type": "code",
   "execution_count": 21,
   "id": "496113b1",
   "metadata": {},
   "outputs": [],
   "source": [
    "from sklearn.model_selection import train_test_split\n",
    "x_train,x_test,y_train,y_test= train_test_split(x,y,test_size=0.25,random_state = 1)"
   ]
  },
  {
   "cell_type": "code",
   "execution_count": 22,
   "id": "6c6f3b02",
   "metadata": {},
   "outputs": [],
   "source": [
    "from sklearn.preprocessing import StandardScaler\n",
    "scaler = StandardScaler()\n",
    "x_train_scaler = scaler.fit_transform(x_train)\n",
    "x_test_scaler = scaler.transform(x_test)\n"
   ]
  },
  {
   "cell_type": "code",
   "execution_count": 23,
   "id": "2695fc2d",
   "metadata": {},
   "outputs": [],
   "source": [
    "from sklearn.linear_model import LinearRegression\n",
    "lin = LinearRegression()"
   ]
  },
  {
   "cell_type": "code",
   "execution_count": 24,
   "id": "6781057f",
   "metadata": {},
   "outputs": [],
   "source": [
    "from sklearn.preprocessing import PolynomialFeatures\n",
    "poly = PolynomialFeatures(degree=6)\n",
    "x_poly_train = poly.fit_transform(x_train_scaler)\n",
    "x_test_train = poly.transform(x_test_scaler)\n",
    "poly.fit(x_poly_train,y_train)\n",
    "lin.fit(x_poly_train,y_train)\n",
    "y_pred = lin.predict(x_test_train)"
   ]
  },
  {
   "cell_type": "code",
   "execution_count": 25,
   "id": "834adbd9",
   "metadata": {},
   "outputs": [
    {
     "data": {
      "text/plain": [
       "2835631250.3550763"
      ]
     },
     "execution_count": 25,
     "metadata": {},
     "output_type": "execute_result"
    }
   ],
   "source": [
    "from sklearn.metrics import mean_absolute_error\n",
    "mean_absolute_error(y_test,y_pred)"
   ]
  },
  {
   "cell_type": "code",
   "execution_count": 26,
   "id": "1522b6d9",
   "metadata": {},
   "outputs": [
    {
     "data": {
      "text/plain": [
       "949727.8090328467"
      ]
     },
     "execution_count": 26,
     "metadata": {},
     "output_type": "execute_result"
    }
   ],
   "source": [
    "y_pred_train = lin.predict(x_poly_train)\n",
    "mean_absolute_error(y_train,y_pred_train)"
   ]
  },
  {
   "cell_type": "code",
   "execution_count": 27,
   "id": "eee7d91f",
   "metadata": {},
   "outputs": [
    {
     "data": {
      "text/html": [
       "<style>#sk-container-id-2 {color: black;}#sk-container-id-2 pre{padding: 0;}#sk-container-id-2 div.sk-toggleable {background-color: white;}#sk-container-id-2 label.sk-toggleable__label {cursor: pointer;display: block;width: 100%;margin-bottom: 0;padding: 0.3em;box-sizing: border-box;text-align: center;}#sk-container-id-2 label.sk-toggleable__label-arrow:before {content: \"▸\";float: left;margin-right: 0.25em;color: #696969;}#sk-container-id-2 label.sk-toggleable__label-arrow:hover:before {color: black;}#sk-container-id-2 div.sk-estimator:hover label.sk-toggleable__label-arrow:before {color: black;}#sk-container-id-2 div.sk-toggleable__content {max-height: 0;max-width: 0;overflow: hidden;text-align: left;background-color: #f0f8ff;}#sk-container-id-2 div.sk-toggleable__content pre {margin: 0.2em;color: black;border-radius: 0.25em;background-color: #f0f8ff;}#sk-container-id-2 input.sk-toggleable__control:checked~div.sk-toggleable__content {max-height: 200px;max-width: 100%;overflow: auto;}#sk-container-id-2 input.sk-toggleable__control:checked~label.sk-toggleable__label-arrow:before {content: \"▾\";}#sk-container-id-2 div.sk-estimator input.sk-toggleable__control:checked~label.sk-toggleable__label {background-color: #d4ebff;}#sk-container-id-2 div.sk-label input.sk-toggleable__control:checked~label.sk-toggleable__label {background-color: #d4ebff;}#sk-container-id-2 input.sk-hidden--visually {border: 0;clip: rect(1px 1px 1px 1px);clip: rect(1px, 1px, 1px, 1px);height: 1px;margin: -1px;overflow: hidden;padding: 0;position: absolute;width: 1px;}#sk-container-id-2 div.sk-estimator {font-family: monospace;background-color: #f0f8ff;border: 1px dotted black;border-radius: 0.25em;box-sizing: border-box;margin-bottom: 0.5em;}#sk-container-id-2 div.sk-estimator:hover {background-color: #d4ebff;}#sk-container-id-2 div.sk-parallel-item::after {content: \"\";width: 100%;border-bottom: 1px solid gray;flex-grow: 1;}#sk-container-id-2 div.sk-label:hover label.sk-toggleable__label {background-color: #d4ebff;}#sk-container-id-2 div.sk-serial::before {content: \"\";position: absolute;border-left: 1px solid gray;box-sizing: border-box;top: 0;bottom: 0;left: 50%;z-index: 0;}#sk-container-id-2 div.sk-serial {display: flex;flex-direction: column;align-items: center;background-color: white;padding-right: 0.2em;padding-left: 0.2em;position: relative;}#sk-container-id-2 div.sk-item {position: relative;z-index: 1;}#sk-container-id-2 div.sk-parallel {display: flex;align-items: stretch;justify-content: center;background-color: white;position: relative;}#sk-container-id-2 div.sk-item::before, #sk-container-id-2 div.sk-parallel-item::before {content: \"\";position: absolute;border-left: 1px solid gray;box-sizing: border-box;top: 0;bottom: 0;left: 50%;z-index: -1;}#sk-container-id-2 div.sk-parallel-item {display: flex;flex-direction: column;z-index: 1;position: relative;background-color: white;}#sk-container-id-2 div.sk-parallel-item:first-child::after {align-self: flex-end;width: 50%;}#sk-container-id-2 div.sk-parallel-item:last-child::after {align-self: flex-start;width: 50%;}#sk-container-id-2 div.sk-parallel-item:only-child::after {width: 0;}#sk-container-id-2 div.sk-dashed-wrapped {border: 1px dashed gray;margin: 0 0.4em 0.5em 0.4em;box-sizing: border-box;padding-bottom: 0.4em;background-color: white;}#sk-container-id-2 div.sk-label label {font-family: monospace;font-weight: bold;display: inline-block;line-height: 1.2em;}#sk-container-id-2 div.sk-label-container {text-align: center;}#sk-container-id-2 div.sk-container {/* jupyter's `normalize.less` sets `[hidden] { display: none; }` but bootstrap.min.css set `[hidden] { display: none !important; }` so we also need the `!important` here to be able to override the default hidden behavior on the sphinx rendered scikit-learn.org. See: https://github.com/scikit-learn/scikit-learn/issues/21755 */display: inline-block !important;position: relative;}#sk-container-id-2 div.sk-text-repr-fallback {display: none;}</style><div id=\"sk-container-id-2\" class=\"sk-top-container\"><div class=\"sk-text-repr-fallback\"><pre>LinearRegression()</pre><b>In a Jupyter environment, please rerun this cell to show the HTML representation or trust the notebook. <br />On GitHub, the HTML representation is unable to render, please try loading this page with nbviewer.org.</b></div><div class=\"sk-container\" hidden><div class=\"sk-item\"><div class=\"sk-estimator sk-toggleable\"><input class=\"sk-toggleable__control sk-hidden--visually\" id=\"sk-estimator-id-2\" type=\"checkbox\" checked><label for=\"sk-estimator-id-2\" class=\"sk-toggleable__label sk-toggleable__label-arrow\">LinearRegression</label><div class=\"sk-toggleable__content\"><pre>LinearRegression()</pre></div></div></div></div></div>"
      ],
      "text/plain": [
       "LinearRegression()"
      ]
     },
     "execution_count": 27,
     "metadata": {},
     "output_type": "execute_result"
    }
   ],
   "source": [
    "ploy = PolynomialFeatures(degree=3)\n",
    "x_ploy_train = poly.fit_transform(x_train_scaler)\n",
    "x_test_train = poly.transform(x_test_scaler)\n",
    "poly.fit(x_poly_train,y_train)\n",
    "lin = LinearRegression()\n",
    "lin.fit(x_poly_train,y_train)"
   ]
  },
  {
   "cell_type": "code",
   "execution_count": 32,
   "id": "17095543",
   "metadata": {},
   "outputs": [
    {
     "data": {
      "text/plain": [
       "949727.8090328467"
      ]
     },
     "execution_count": 32,
     "metadata": {},
     "output_type": "execute_result"
    }
   ],
   "source": [
    "y_pred = lin.predict(x_ploy_train)\n",
    "mean_absolute_error(y_train,y_pred)"
   ]
  },
  {
   "cell_type": "code",
   "execution_count": 33,
   "id": "e0eca586",
   "metadata": {},
   "outputs": [
    {
     "data": {
      "text/plain": [
       "949727.8090328467"
      ]
     },
     "execution_count": 33,
     "metadata": {},
     "output_type": "execute_result"
    }
   ],
   "source": [
    "y_pred_train = lin.predict(x_ploy_train)\n",
    "mean_absolute_error(y_train,y_pred_train)"
   ]
  },
  {
   "cell_type": "code",
   "execution_count": null,
   "id": "a0ae8af7",
   "metadata": {},
   "outputs": [],
   "source": []
  }
 ],
 "metadata": {
  "kernelspec": {
   "display_name": "Python 3 (ipykernel)",
   "language": "python",
   "name": "python3"
  },
  "language_info": {
   "codemirror_mode": {
    "name": "ipython",
    "version": 3
   },
   "file_extension": ".py",
   "mimetype": "text/x-python",
   "name": "python",
   "nbconvert_exporter": "python",
   "pygments_lexer": "ipython3",
   "version": "3.10.9"
  }
 },
 "nbformat": 4,
 "nbformat_minor": 5
}
